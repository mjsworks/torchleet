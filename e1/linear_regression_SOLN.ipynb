{
  "nbformat": 4,
  "nbformat_minor": 0,
  "metadata": {
    "colab": {
      "provenance": []
    },
    "kernelspec": {
      "name": "python3",
      "display_name": "Python 3"
    },
    "language_info": {
      "name": "python"
    }
  },
  "cells": [
    {
      "cell_type": "markdown",
      "source": [
        "# Phase 1: Core Implementation"
      ],
      "metadata": {
        "id": "OIXvIjhWR8iG"
      }
    },
    {
      "cell_type": "markdown",
      "source": [
        "## 1.1 setup and imports"
      ],
      "metadata": {
        "id": "i3gpm_bZW-W_"
      }
    },
    {
      "cell_type": "code",
      "execution_count": 1,
      "metadata": {
        "id": "KS_sC8nONgkz"
      },
      "outputs": [],
      "source": [
        "import torch                      # core tensor functionalities\n",
        "import torch.nn as nn             # neural network modules, includes layers andloss\n",
        "import torch.optim as optim       # built-in optimizers\n",
        "import matplotlib.pyplot as plt   # visualizatio module"
      ]
    },
    {
      "cell_type": "markdown",
      "source": [
        "### 1.1.1 setup random seed - reproducibility\n",
        "\n",
        "random seed is required because it ensures that the result is repeatable. It makes sure that the data shuffling is consistent. Most importantly, it ensures that the same initial weights are used every time."
      ],
      "metadata": {
        "id": "zzd2GVuiX8Vx"
      }
    },
    {
      "cell_type": "code",
      "source": [
        "torch.manual_seed(42)"
      ],
      "metadata": {
        "colab": {
          "base_uri": "https://localhost:8080/"
        },
        "id": "f3IviZ1PYA7g",
        "outputId": "ace31df5-df89-44ed-f125-1eb5663269b4"
      },
      "execution_count": 2,
      "outputs": [
        {
          "output_type": "execute_result",
          "data": {
            "text/plain": [
              "<torch._C.Generator at 0x7ba0bc4c5cb0>"
            ]
          },
          "metadata": {},
          "execution_count": 2
        }
      ]
    },
    {
      "cell_type": "markdown",
      "source": [
        "### 1.1.2 Check GPU availability\n",
        "\n",
        "Since this is a very small scale application of linear regression, I am not using GPU in this particular application. However, for larger scale or maybe for a different algorithm, we will need to use GPU. As a result, it is a standard practice to check the GPU availability"
      ],
      "metadata": {
        "id": "0gooCppzYbHy"
      }
    },
    {
      "cell_type": "code",
      "source": [
        "device = torch.device(\"cuda\" if torch.cuda.is_available() else \"cpu\")\n",
        "print(f\"System is using device as {device}\")"
      ],
      "metadata": {
        "colab": {
          "base_uri": "https://localhost:8080/"
        },
        "id": "SdlvRQyTYvhA",
        "outputId": "57219a94-908a-4db8-b23d-bfa2ad342b11"
      },
      "execution_count": 3,
      "outputs": [
        {
          "output_type": "stream",
          "name": "stdout",
          "text": [
            "System is using device as cpu\n"
          ]
        }
      ]
    },
    {
      "cell_type": "markdown",
      "source": [
        "## 1.2 Data Generation\n",
        "\n",
        "Why are we doing this?<br>\n",
        "We are creating a sythetic dataset that contains linear relationship between `x` - independent variables and `y` - dependent variable."
      ],
      "metadata": {
        "id": "BULzOLcxZfKr"
      }
    },
    {
      "cell_type": "markdown",
      "source": [
        "### 1.2.1 Create input features"
      ],
      "metadata": {
        "id": "dNlJ77XwZ5s0"
      }
    },
    {
      "cell_type": "code",
      "source": [
        "X = torch.rand(100, 1) * 10     # gives us 100 values. 1 column, ragning from 0 to 10"
      ],
      "metadata": {
        "id": "AtlyjHQ-Z8Zw"
      },
      "execution_count": 10,
      "outputs": []
    },
    {
      "cell_type": "markdown",
      "source": [
        "### 1.2.2 Define ground thuth function"
      ],
      "metadata": {
        "id": "4k4_UyFtakej"
      }
    },
    {
      "cell_type": "code",
      "source": [
        "y = 2*X + 3"
      ],
      "metadata": {
        "id": "2yc27r_Oanfx"
      },
      "execution_count": 13,
      "outputs": []
    },
    {
      "cell_type": "markdown",
      "source": [
        "### 1.2.3 Add noise\n",
        "\n",
        "why?<br>\n",
        "because in real world, ther will always be noise. the relationship is never perfect.\n",
        "\n",
        "There will always be\n",
        "1. measuring error\n",
        "2. natural randomness\n",
        "3. man-made error\n",
        "\n",
        "So, the best practice will be to use the noise here"
      ],
      "metadata": {
        "id": "byy2Og21a3Ze"
      }
    },
    {
      "cell_type": "code",
      "source": [
        "y = y + torch.rand(100,1)"
      ],
      "metadata": {
        "id": "jcdNPJ5xbQF8"
      },
      "execution_count": 14,
      "outputs": []
    },
    {
      "cell_type": "markdown",
      "source": [
        "### 1.2.4 Visualization of X and y"
      ],
      "metadata": {
        "id": "PVAUbA6WbgK0"
      }
    },
    {
      "cell_type": "code",
      "source": [
        "plt.scatter(X.numpy(), y.numpy(), alpha=0.7)\n",
        "plt.title(\"Synthetic Data: y = 2x + 3 + noise\")\n",
        "plt.xlabel(\"X\")\n",
        "plt.ylabel(\"y\")\n",
        "plt.grid(True)\n",
        "plt.show()"
      ],
      "metadata": {
        "colab": {
          "base_uri": "https://localhost:8080/",
          "height": 472
        },
        "id": "JnoIiS66bfv1",
        "outputId": "49cf632e-6f75-4623-8c16-a9ab0678b5a1"
      },
      "execution_count": 16,
      "outputs": [
        {
          "output_type": "display_data",
          "data": {
            "text/plain": [
              "<Figure size 640x480 with 1 Axes>"
            ],
            "image/png": "[encoded data removed]"
          },
          "metadata": {}
        }
      ]
    },
    {
      "cell_type": "markdown",
      "source": [
        "## 1.3 Model definition: creating learnable parameters\n",
        "\n",
        "Working mechanism:<br>\n",
        "`nn.Linear(1,1)` - creates `2` learnable parameters, namely:`weight` and `bias`<br>\n",
        "`weight` - slope: how steep the line is<br>\n",
        "`bias` - interception: where the line crosses `y axis`\n",
        "\n",
        "`forward` - just says use this equation when you get an input."
      ],
      "metadata": {
        "id": "-I4e-qmndSTV"
      }
    },
    {
      "cell_type": "code",
      "source": [
        "class LinearRegression(nn.Module):\n",
        "  def __init__(self):\n",
        "    super().__init__()\n",
        "    # create a layer that creates 1 input and 1 output\n",
        "    # internally it will learn weight 'w' and bias 'b' for y = wx+b\n",
        "    self.linear = nn.Linear(in_features=1, out_features=1)\n",
        "\n",
        "  def forward(self, x):\n",
        "    return self.linear(x)"
      ],
      "metadata": {
        "id": "px-b7haddXr7"
      },
      "execution_count": 21,
      "outputs": []
    },
    {
      "cell_type": "markdown",
      "source": [
        "### 1.3.1 check initial weight and bias\n",
        "\n",
        "```text\n",
        "model\n",
        "├── linear (nn.Linear)\n",
        "│   ├── weight (Parameter)\n",
        "│   └── bias   (Parameter)\n",
        "```"
      ],
      "metadata": {
        "id": "mjYiSUi9e5_5"
      }
    },
    {
      "cell_type": "code",
      "source": [
        "model = LinearRegression()\n",
        "\n",
        "print(f\"Initial Weight:{model.linear.weight.item():.4f}\")\n",
        "print(f\"Initial Bias:{model.linear.bias.item():.4f}\")"
      ],
      "metadata": {
        "colab": {
          "base_uri": "https://localhost:8080/"
        },
        "id": "diDH7U8oe9hX",
        "outputId": "7649b752-0b3f-4dfc-c902-9815294fa26f"
      },
      "execution_count": 27,
      "outputs": [
        {
          "output_type": "stream",
          "name": "stdout",
          "text": [
            "Initial Weight:0.8981\n",
            "Initial Bias:-0.3805\n"
          ]
        }
      ]
    },
    {
      "cell_type": "markdown",
      "source": [
        "## 1.4 Loss functiona and Optimizer\n",
        "\n",
        "What will we be doing?<br>\n",
        "We are trying to set how the model learns.\n",
        "1. Loss function: Measures how far the models predictions are from true values\n",
        "2. Optimizer: adjusts the models weights and bias to minimize loss.\n",
        "\n",
        "\n",
        "Loss function here is MSELoss() - because it is the most common for regression tasks\n",
        "\n",
        "Optimizer is SGD here as it is one of the most easy and simple."
      ],
      "metadata": {
        "id": "fsRO3JLJgxrR"
      }
    },
    {
      "cell_type": "code",
      "source": [
        "criterion = nn.MSELoss()                           # criterion(predictions, target) - loss\n",
        "\n",
        "optimizer = optim.SGD(model.parameters(), lr=0.01) # model.parameters() -> access to weights and biases. after that the SGD optimizes the weights and biases."
      ],
      "metadata": {
        "id": "4QOTH-k4gxT0"
      },
      "execution_count": 28,
      "outputs": []
    },
    {
      "cell_type": "code",
      "source": [],
      "metadata": {
        "id": "MOEoL3Ujifs2"
      },
      "execution_count": 28,
      "outputs": []
    }
  ]
}