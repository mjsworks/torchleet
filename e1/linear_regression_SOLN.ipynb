{
  "nbformat": 4,
  "nbformat_minor": 0,
  "metadata": {
    "colab": {
      "provenance": []
    },
    "kernelspec": {
      "name": "python3",
      "display_name": "Python 3"
    },
    "language_info": {
      "name": "python"
    }
  },
  "cells": [
    {
      "cell_type": "markdown",
      "source": [
        "# Phase 1: Core Implementation"
      ],
      "metadata": {
        "id": "OIXvIjhWR8iG"
      }
    },
    {
      "cell_type": "markdown",
      "source": [
        "## 1.1 setup and imports"
      ],
      "metadata": {
        "id": "i3gpm_bZW-W_"
      }
    },
    {
      "cell_type": "code",
      "execution_count": 1,
      "metadata": {
        "id": "KS_sC8nONgkz"
      },
      "outputs": [],
      "source": [
        "import torch                      # core tensor functionalities\n",
        "import torch.nn as nn             # neural network modules, includes layers andloss\n",
        "import torch.optim as optim       # built-in optimizers\n",
        "import matplotlib.pyplot as plt   # visualizatio module"
      ]
    },
    {
      "cell_type": "markdown",
      "source": [
        "### 1.1.1 setup random seed - reproducibility\n",
        "\n",
        "random seed is required because it ensures that the result is repeatable. It makes sure that the data shuffling is consistent. Most importantly, it ensures that the same initial weights are used every time."
      ],
      "metadata": {
        "id": "zzd2GVuiX8Vx"
      }
    },
    {
      "cell_type": "code",
      "source": [
        "torch.manual_seed(42)"
      ],
      "metadata": {
        "colab": {
          "base_uri": "https://localhost:8080/"
        },
        "id": "f3IviZ1PYA7g",
        "outputId": "15ed76d4-a92a-4f8e-eb81-9982d73dbc9e"
      },
      "execution_count": 2,
      "outputs": [
        {
          "output_type": "execute_result",
          "data": {
            "text/plain": [
              "<torch._C.Generator at 0x7f477664de70>"
            ]
          },
          "metadata": {},
          "execution_count": 2
        }
      ]
    },
    {
      "cell_type": "markdown",
      "source": [
        "### 1.1.2 Check GPU availability\n",
        "\n",
        "Since this is a very small scale application of linear regression, I am not using GPU in this particular application. However, for larger scale or maybe for a different algorithm, we will need to use GPU. As a result, it is a standard practice to check the GPU availability"
      ],
      "metadata": {
        "id": "0gooCppzYbHy"
      }
    },
    {
      "cell_type": "code",
      "source": [
        "device = torch.device(\"cuda\" if torch.cuda.is_available() else \"cpu\")\n",
        "print(f\"System is using device as {device}\")"
      ],
      "metadata": {
        "colab": {
          "base_uri": "https://localhost:8080/"
        },
        "id": "SdlvRQyTYvhA",
        "outputId": "0a4079f6-2e97-438e-952f-0c1fe50cb2ad"
      },
      "execution_count": 3,
      "outputs": [
        {
          "output_type": "stream",
          "name": "stdout",
          "text": [
            "System is using device as cpu\n"
          ]
        }
      ]
    },
    {
      "cell_type": "markdown",
      "source": [
        "## 1.2 Data Generation\n",
        "\n",
        "Why are we doing this?<br>\n",
        "We are creating a sythetic dataset that contains linear relationship between `x` - independent variables and `y` - dependent variable."
      ],
      "metadata": {
        "id": "BULzOLcxZfKr"
      }
    },
    {
      "cell_type": "markdown",
      "source": [
        "### 1.2.1 Create input features"
      ],
      "metadata": {
        "id": "dNlJ77XwZ5s0"
      }
    },
    {
      "cell_type": "code",
      "source": [
        "X = torch.rand(100, 1) * 10     # gives us 100 values. 1 column, ragning from 0 to 10"
      ],
      "metadata": {
        "id": "AtlyjHQ-Z8Zw"
      },
      "execution_count": 4,
      "outputs": []
    },
    {
      "cell_type": "markdown",
      "source": [
        "### 1.2.2 Define ground thuth function"
      ],
      "metadata": {
        "id": "4k4_UyFtakej"
      }
    },
    {
      "cell_type": "code",
      "source": [
        "y = 2*X + 3"
      ],
      "metadata": {
        "id": "2yc27r_Oanfx"
      },
      "execution_count": 5,
      "outputs": []
    },
    {
      "cell_type": "markdown",
      "source": [
        "### 1.2.3 Add noise\n",
        "\n",
        "why?<br>\n",
        "because in real world, ther will always be noise. the relationship is never perfect.\n",
        "\n",
        "There will always be\n",
        "1. measuring error\n",
        "2. natural randomness\n",
        "3. man-made error\n",
        "\n",
        "So, the best practice will be to use the noise here"
      ],
      "metadata": {
        "id": "byy2Og21a3Ze"
      }
    },
    {
      "cell_type": "code",
      "source": [
        "y = y + torch.rand(100,1)"
      ],
      "metadata": {
        "id": "jcdNPJ5xbQF8"
      },
      "execution_count": 6,
      "outputs": []
    },
    {
      "cell_type": "markdown",
      "source": [
        "### 1.2.4 Visualization of X and y"
      ],
      "metadata": {
        "id": "PVAUbA6WbgK0"
      }
    },
    {
      "cell_type": "code",
      "source": [
        "plt.scatter(X.numpy(), y.numpy(), alpha=0.7)\n",
        "plt.title(\"Synthetic Data: y = 2x + 3 + noise\")\n",
        "plt.xlabel(\"X\")\n",
        "plt.ylabel(\"y\")\n",
        "plt.grid(True)\n",
        "plt.show()"
      ],
      "metadata": {
        "colab": {
          "base_uri": "https://localhost:8080/",
          "height": 472
        },
        "id": "JnoIiS66bfv1",
        "outputId": "54ad57c9-f086-4a9a-ec23-9a4c13bfdb6c"
      },
      "execution_count": 7,
      "outputs": [
        {
          "output_type": "display_data",
          "data": {
            "text/plain": [
              "<Figure size 640x480 with 1 Axes>"
            ],
            "image/png": "[encoded data removed]"
          },
          "metadata": {}
        }
      ]
    },
    {
      "cell_type": "markdown",
      "source": [
        "## 1.3 Model definition: creating learnable parameters\n",
        "\n",
        "Working mechanism:<br>\n",
        "`nn.Linear(1,1)` - creates `2` learnable parameters, namely:`weight` and `bias`<br>\n",
        "`weight` - slope: how steep the line is<br>\n",
        "`bias` - interception: where the line crosses `y axis`\n",
        "\n",
        "`forward` - just says use this equation when you get an input."
      ],
      "metadata": {
        "id": "-I4e-qmndSTV"
      }
    },
    {
      "cell_type": "code",
      "source": [
        "class LinearRegression(nn.Module):\n",
        "  def __init__(self):\n",
        "    super().__init__()\n",
        "    # create a layer that creates 1 input and 1 output\n",
        "    # internally it will learn weight 'w' and bias 'b' for y = wx+b\n",
        "    self.linear = nn.Linear(in_features=1, out_features=1)\n",
        "\n",
        "  def forward(self, x):\n",
        "    return self.linear(x)"
      ],
      "metadata": {
        "id": "px-b7haddXr7"
      },
      "execution_count": 8,
      "outputs": []
    },
    {
      "cell_type": "markdown",
      "source": [
        "### 1.3.1 check initial weight and bias\n",
        "\n",
        "```text\n",
        "model\n",
        "├── linear (nn.Linear)\n",
        "│   ├── weight (Parameter)\n",
        "│   └── bias   (Parameter)\n",
        "```"
      ],
      "metadata": {
        "id": "mjYiSUi9e5_5"
      }
    },
    {
      "cell_type": "code",
      "source": [
        "model = LinearRegression()\n",
        "\n",
        "print(f\"Initial Weight:{model.linear.weight.item():.4f}\")\n",
        "print(f\"Initial Bias:{model.linear.bias.item():.4f}\")"
      ],
      "metadata": {
        "colab": {
          "base_uri": "https://localhost:8080/"
        },
        "id": "diDH7U8oe9hX",
        "outputId": "3c760e4d-290e-4fb2-bd77-0dacb679b84c"
      },
      "execution_count": 9,
      "outputs": [
        {
          "output_type": "stream",
          "name": "stdout",
          "text": [
            "Initial Weight:-0.9083\n",
            "Initial Bias:-0.3690\n"
          ]
        }
      ]
    },
    {
      "cell_type": "markdown",
      "source": [
        "## 1.4 Loss functiona and Optimizer\n",
        "\n",
        "What will we be doing?<br>\n",
        "We are trying to set how the model learns.\n",
        "1. Loss function: Measures how far the models predictions are from true values\n",
        "2. Optimizer: adjusts the models weights and bias to minimize loss.\n",
        "\n",
        "\n",
        "Loss function here is MSELoss() - because it is the most common for regression tasks\n",
        "\n",
        "Optimizer is SGD here as it is one of the most easy and simple."
      ],
      "metadata": {
        "id": "fsRO3JLJgxrR"
      }
    },
    {
      "cell_type": "code",
      "source": [
        "criterion = nn.MSELoss()                           # criterion(predictions, target) - loss\n",
        "\n",
        "optimizer = optim.SGD(model.parameters(), lr=0.01) # model.parameters() -> access to weights and biases. after that the SGD optimizes the weights and biases."
      ],
      "metadata": {
        "id": "4QOTH-k4gxT0"
      },
      "execution_count": 10,
      "outputs": []
    },
    {
      "cell_type": "markdown",
      "source": [
        "## 1.5 Training Loop\n",
        "\n",
        "What does training look like?<br>\n",
        "```text\n",
        "Guess -> Check -> Learn -> Improve -> Repeat\n",
        "```\n",
        "Each loop will be called an `epoch`."
      ],
      "metadata": {
        "id": "YP9asSN9hlF8"
      }
    },
    {
      "cell_type": "code",
      "source": [
        "# total training epochs\n",
        "epochs = 1000\n",
        "\n",
        "# list to store losses\n",
        "losses = []             # this later is used for plotting\n",
        "\n",
        "# starting the training loop\n",
        "for epoch in range(epochs):\n",
        "  # task 1: Guess\n",
        "  y_pred = model(X)    # this is forward pass. Given the input X, what's the prediction?\n",
        "\n",
        "  # task 2: Check\n",
        "  loss = criterion(y_pred, y) # check how far off are the prediction compared to y\n",
        "\n",
        "  # task 3: Learn\n",
        "  # clear off old gradients first\n",
        "  optimizer.zero_grad() # as pytorch accunulates gradients, this part is essential\n",
        "\n",
        "  loss.backward() # calculate how each param contributed to the error\n",
        "                  # pytorch automatically computes the gradients of the loss wrt each param\n",
        "  # task 4: Improve\n",
        "  optimizer.step() # adjust the weight and bias to reduce the loss next time\n",
        "\n",
        "  # save the loss for plotting\n",
        "  losses.append(loss.item())\n",
        "\n",
        "  # auxiliary task: printing updates in every 100 epochs\n",
        "  if (epoch+1)%100 == 0:\n",
        "    print(f\"Epoch {epoch+1}/{epochs}: Loss = {loss.item():.4f}\")"
      ],
      "metadata": {
        "id": "MOEoL3Ujifs2",
        "colab": {
          "base_uri": "https://localhost:8080/"
        },
        "outputId": "1120a737-9fe0-4ba2-ae14-870fca09ff60"
      },
      "execution_count": 11,
      "outputs": [
        {
          "output_type": "stream",
          "name": "stdout",
          "text": [
            "Epoch 100/1000: Loss = 1.0848\n",
            "Epoch 200/1000: Loss = 0.4623\n",
            "Epoch 300/1000: Loss = 0.2234\n",
            "Epoch 400/1000: Loss = 0.1317\n",
            "Epoch 500/1000: Loss = 0.0965\n",
            "Epoch 600/1000: Loss = 0.0830\n",
            "Epoch 700/1000: Loss = 0.0778\n",
            "Epoch 800/1000: Loss = 0.0758\n",
            "Epoch 900/1000: Loss = 0.0751\n",
            "Epoch 1000/1000: Loss = 0.0748\n"
          ]
        }
      ]
    },
    {
      "cell_type": "markdown",
      "source": [
        "## 1.6 Print learned params"
      ],
      "metadata": {
        "id": "Uc9sN97ysRJ2"
      }
    },
    {
      "cell_type": "code",
      "source": [
        "learned_weight = model.linear.weight.item()\n",
        "learned_bias = model.linear.bias.item()\n",
        "\n",
        "print(f\"Learned Weight: {learned_weight:.4f}\")\n",
        "print(f\"Learned Bias: {learned_bias:.4f}\")"
      ],
      "metadata": {
        "colab": {
          "base_uri": "https://localhost:8080/"
        },
        "id": "QmJf90Epsvn2",
        "outputId": "abe46fe9-6369-4132-be91-a63c4b0a1017"
      },
      "execution_count": 12,
      "outputs": [
        {
          "output_type": "stream",
          "name": "stdout",
          "text": [
            "Learned Weight: 2.0149\n",
            "Learned Bias: 3.3741\n"
          ]
        }
      ]
    },
    {
      "cell_type": "markdown",
      "source": [
        "in here, our learned weight is 2.01 and learned bias is 2.37\n",
        "if we remember, our original equation was `2X+3`. considering it equal to `wx+b`, the weight should have been 2 and bias to be 3. However, these obtained value through training is a bit off because of the noise we put into the model, which is very obvious and expected in a real-life scenario."
      ],
      "metadata": {
        "id": "pT_cEgPFtHpZ"
      }
    },
    {
      "cell_type": "markdown",
      "source": [
        "## 1.7 Visualize training loss curve\n",
        "\n",
        "what will we plot? <br>\n",
        "1. X-Axis: epoch 1 to 1000\n",
        "2. Y-Axis: MSE loss value at each epoch\n",
        "\n",
        "The curve here should drop sharply and then flatten out eventually"
      ],
      "metadata": {
        "id": "8gQHJKsQtk3r"
      }
    },
    {
      "cell_type": "code",
      "source": [
        "plt.plot(losses)\n",
        "plt.title(\"training loss curve\")\n",
        "plt.xlabel(\"epoch\")\n",
        "plt.ylabel(\"MSE loss\")\n",
        "plt.grid(True)\n",
        "plt.show()"
      ],
      "metadata": {
        "colab": {
          "base_uri": "https://localhost:8080/",
          "height": 472
        },
        "id": "IwnGSOrAuHCH",
        "outputId": "67e64386-e9e8-4385-b6fc-3187cacda27f"
      },
      "execution_count": 13,
      "outputs": [
        {
          "output_type": "display_data",
          "data": {
            "text/plain": [
              "<Figure size 640x480 with 1 Axes>"
            ],
            "image/png": "[encoded data removed]"
          },
          "metadata": {}
        }
      ]
    },
    {
      "cell_type": "markdown",
      "source": [
        "## 1.8 Plot the learned regression line\n",
        "\n",
        "it essentially draws the best-fit line through the data\n",
        "\n",
        "it will be a scatterplot if the X and y along with my model's prediction.\n",
        "\n",
        "Even though we have not saved the models params explicitly. we have it saved on the model's object. when we called `optimizer.step()`, pytorch updated the weights and bias on the model's object. So, we will see that when we code the next part, we wont need any gradients because that is an unnecessary calculation now.\n",
        "\n",
        "\n",
        "if the question arises that when we need to save the model then?\n",
        "`torch.save(model.state_dict(), \"model.pth\")`\n",
        "\n",
        "and later\n",
        "\n",
        "`torch.load_state_dict(torch.load(\"model.pth\"))`\n",
        "\n",
        "1. if we are shutting dowsn the notebook\n",
        "2. we want to share it or load later"
      ],
      "metadata": {
        "id": "1v_UMPQJR6_o"
      }
    },
    {
      "cell_type": "code",
      "source": [
        "# no gradient tracking is required for plotting\n",
        "with torch.no_grad():\n",
        "\n",
        "  # prediction - GUESS\n",
        "  predicted = model(X)\n",
        "\n",
        "  # now that we have X and y(predicted), we can form the scatter plot\n",
        "  plt.scatter(\n",
        "      X.numpy(), # matplotlib only understands numpy array. not pytorch tensors\n",
        "      y.numpy(),\n",
        "      label='Noise data',\n",
        "      alpha=0. # opacity param. it is required for overplotting\n",
        "    )\n",
        "\n",
        "  # line plot of te predictions\n",
        "  plt.plot(\n",
        "      X.numpy(),\n",
        "      predicted.numpy(),\n",
        "      color='red',\n",
        "      label='Learned Regression Line'\n",
        "    )\n",
        "\n",
        "  plt.title(\"Learned Regression Line\")\n",
        "  plt.xlabel(\"X\")\n",
        "  plt.ylabel(\"y\")\n",
        "  plt.legend()\n",
        "  plt.grid(True)\n",
        "  plt.show()\n",
        "\n",
        "\n",
        "  \"\"\"\n",
        "  if the tensors were created in GPU, we must move it back to CPU first\n",
        "  -> X.cpu().numpy()\n",
        "  -> y.cpu().numpy()\n",
        "  -> predicted.cpu().numpy()\n",
        "  \"\"\""
      ],
      "metadata": {
        "colab": {
          "base_uri": "https://localhost:8080/",
          "height": 472
        },
        "id": "iKnbSLACR6nn",
        "outputId": "c252f395-066c-4be9-9fb8-d074d7c6c1a2"
      },
      "execution_count": 14,
      "outputs": [
        {
          "output_type": "display_data",
          "data": {
            "text/plain": [
              "<Figure size 640x480 with 1 Axes>"
            ],
            "image/png": "[encoded data removed]"
          },
          "metadata": {}
        }
      ]
    },
    {
      "cell_type": "markdown",
      "source": [
        "## 1.9 Predict on New(Unseen) input values\n",
        "\n",
        "we just want to make sure that if the model\n",
        "1. make reasonable predictions for the new values it has not seen befofe?\n",
        "2. does it still follow the same linear patter it learned?"
      ],
      "metadata": {
        "id": "Nzr_KIvtYInH"
      }
    },
    {
      "cell_type": "code",
      "source": [
        "# define new input values\n",
        "X_test = torch.tensor([[4.0], [7.0]])\n",
        "\n",
        "# use the trained model to predict outputs\n",
        "with torch.no_grad():\n",
        "  # prediction\n",
        "  predictions = model(X_test)\n",
        "\n",
        "# print predictions\n",
        "for i, x_value in enumerate(X_test):\n",
        "  print(f\"Input: {x_value.item()} -> predicted output: {predictions[i].item():.4f}\")\n",
        "\n",
        "# if it follows the original equation\n",
        "for i, x_value in enumerate(X_test):\n",
        "  print(f\"Original Equation value output: {2*x_value.item()+3:.4f}\")\n",
        "\n",
        "# if it follows model's learned param\n",
        "for i, x_value in enumerate(X_test):\n",
        "  print(f\"Learned Equation value output: {learned_weight*x_value.item()+learned_bias:.4f}\")"
      ],
      "metadata": {
        "colab": {
          "base_uri": "https://localhost:8080/"
        },
        "id": "0daRe2hbR6du",
        "outputId": "2611946f-dc89-49e5-f550-9e1eac4a4b52"
      },
      "execution_count": 20,
      "outputs": [
        {
          "output_type": "stream",
          "name": "stdout",
          "text": [
            "Input: 4.0 -> predicted output: 11.4337\n",
            "Input: 7.0 -> predicted output: 17.4784\n",
            "Original Equation value output: 11.0000\n",
            "Original Equation value output: 17.0000\n",
            "Learned Equation value output: 11.4337\n",
            "Learned Equation value output: 17.4784\n"
          ]
        }
      ]
    }
  ]
}